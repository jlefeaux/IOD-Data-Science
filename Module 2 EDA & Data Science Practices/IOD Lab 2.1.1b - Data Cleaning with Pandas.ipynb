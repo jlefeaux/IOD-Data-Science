{
 "cells": [
  {
   "cell_type": "markdown",
   "metadata": {
    "id": "PopLE1ywNQsa"
   },
   "source": [
    "<div>\n",
    "<img src=https://www.institutedata.com/wp-content/uploads/2019/10/iod_h_tp_primary_c.svg width=\"300\">\n",
    "</div>"
   ]
  },
  {
   "cell_type": "markdown",
   "metadata": {
    "id": "e45O_NedNQsd"
   },
   "source": [
    "# Lab 2.1.1b\n",
    "# *Data Cleaning with Pandas*\n",
    "\n",
    "In this lab we work with a file that has messy column names and a combination of missing and invalid data to be cleaned."
   ]
  },
  {
   "cell_type": "markdown",
   "metadata": {
    "id": "JykYEjUHVppc"
   },
   "source": [
    "To start with load `rock.csv` into a dataframe."
   ]
  },
  {
   "cell_type": "code",
   "execution_count": 1,
   "metadata": {
    "id": "ePj_kKHZPTfW"
   },
   "outputs": [],
   "source": [
    "\n",
    "import pandas as pd\n"
   ]
  },
  {
   "cell_type": "code",
   "execution_count": 2,
   "metadata": {},
   "outputs": [
    {
     "data": {
      "text/html": [
       "<div>\n",
       "<style scoped>\n",
       "    .dataframe tbody tr th:only-of-type {\n",
       "        vertical-align: middle;\n",
       "    }\n",
       "\n",
       "    .dataframe tbody tr th {\n",
       "        vertical-align: top;\n",
       "    }\n",
       "\n",
       "    .dataframe thead th {\n",
       "        text-align: right;\n",
       "    }\n",
       "</style>\n",
       "<table border=\"1\" class=\"dataframe\">\n",
       "  <thead>\n",
       "    <tr style=\"text-align: right;\">\n",
       "      <th></th>\n",
       "      <th>Song Clean</th>\n",
       "      <th>ARTIST CLEAN</th>\n",
       "      <th>Release Year</th>\n",
       "      <th>COMBINED</th>\n",
       "      <th>First?</th>\n",
       "      <th>Year?</th>\n",
       "      <th>PlayCount</th>\n",
       "      <th>F*G</th>\n",
       "    </tr>\n",
       "  </thead>\n",
       "  <tbody>\n",
       "    <tr>\n",
       "      <th>0</th>\n",
       "      <td>Caught Up in You</td>\n",
       "      <td>.38 Special</td>\n",
       "      <td>1982</td>\n",
       "      <td>Caught Up in You by .38 Special</td>\n",
       "      <td>1</td>\n",
       "      <td>1</td>\n",
       "      <td>82</td>\n",
       "      <td>82</td>\n",
       "    </tr>\n",
       "    <tr>\n",
       "      <th>1</th>\n",
       "      <td>Fantasy Girl</td>\n",
       "      <td>.38 Special</td>\n",
       "      <td>NaN</td>\n",
       "      <td>Fantasy Girl by .38 Special</td>\n",
       "      <td>1</td>\n",
       "      <td>0</td>\n",
       "      <td>3</td>\n",
       "      <td>0</td>\n",
       "    </tr>\n",
       "    <tr>\n",
       "      <th>2</th>\n",
       "      <td>Hold On Loosely</td>\n",
       "      <td>.38 Special</td>\n",
       "      <td>1981</td>\n",
       "      <td>Hold On Loosely by .38 Special</td>\n",
       "      <td>1</td>\n",
       "      <td>1</td>\n",
       "      <td>85</td>\n",
       "      <td>85</td>\n",
       "    </tr>\n",
       "    <tr>\n",
       "      <th>3</th>\n",
       "      <td>Rockin' Into the Night</td>\n",
       "      <td>.38 Special</td>\n",
       "      <td>1980</td>\n",
       "      <td>Rockin' Into the Night by .38 Special</td>\n",
       "      <td>1</td>\n",
       "      <td>1</td>\n",
       "      <td>18</td>\n",
       "      <td>18</td>\n",
       "    </tr>\n",
       "    <tr>\n",
       "      <th>4</th>\n",
       "      <td>Art For Arts Sake</td>\n",
       "      <td>10cc</td>\n",
       "      <td>1975</td>\n",
       "      <td>Art For Arts Sake by 10cc</td>\n",
       "      <td>1</td>\n",
       "      <td>1</td>\n",
       "      <td>1</td>\n",
       "      <td>1</td>\n",
       "    </tr>\n",
       "  </tbody>\n",
       "</table>\n",
       "</div>"
      ],
      "text/plain": [
       "               Song Clean ARTIST CLEAN Release Year  \\\n",
       "0        Caught Up in You  .38 Special         1982   \n",
       "1            Fantasy Girl  .38 Special          NaN   \n",
       "2         Hold On Loosely  .38 Special         1981   \n",
       "3  Rockin' Into the Night  .38 Special         1980   \n",
       "4       Art For Arts Sake         10cc         1975   \n",
       "\n",
       "                                COMBINED  First?  Year?  PlayCount  F*G  \n",
       "0        Caught Up in You by .38 Special       1      1         82   82  \n",
       "1            Fantasy Girl by .38 Special       1      0          3    0  \n",
       "2         Hold On Loosely by .38 Special       1      1         85   85  \n",
       "3  Rockin' Into the Night by .38 Special       1      1         18   18  \n",
       "4              Art For Arts Sake by 10cc       1      1          1    1  "
      ]
     },
     "execution_count": 2,
     "metadata": {},
     "output_type": "execute_result"
    }
   ],
   "source": [
    "\n",
    "# ANSWER\n",
    "rock = pd.read_csv('../DATA/rock.csv')\n",
    "rock.head()\n"
   ]
  },
  {
   "cell_type": "markdown",
   "metadata": {
    "id": "NZQ4WoVYVppf"
   },
   "source": [
    "### Check Column Names\n",
    "\n",
    "Check column names and clean by converting all names to lowercase, replacing spaces with underscores (`_`) and removing question marks or asterisk (`*`) characters."
   ]
  },
  {
   "cell_type": "code",
   "execution_count": 80,
   "metadata": {
    "id": "xo8FGCLMPaqG"
   },
   "outputs": [
    {
     "data": {
      "text/html": [
       "<div>\n",
       "<style scoped>\n",
       "    .dataframe tbody tr th:only-of-type {\n",
       "        vertical-align: middle;\n",
       "    }\n",
       "\n",
       "    .dataframe tbody tr th {\n",
       "        vertical-align: top;\n",
       "    }\n",
       "\n",
       "    .dataframe thead th {\n",
       "        text-align: right;\n",
       "    }\n",
       "</style>\n",
       "<table border=\"1\" class=\"dataframe\">\n",
       "  <thead>\n",
       "    <tr style=\"text-align: right;\">\n",
       "      <th></th>\n",
       "      <th>song_clean</th>\n",
       "      <th>artist_clean</th>\n",
       "      <th>release_year</th>\n",
       "      <th>combined</th>\n",
       "      <th>first</th>\n",
       "      <th>year</th>\n",
       "      <th>playcount</th>\n",
       "      <th>fg</th>\n",
       "    </tr>\n",
       "  </thead>\n",
       "  <tbody>\n",
       "    <tr>\n",
       "      <th>0</th>\n",
       "      <td>Caught Up in You</td>\n",
       "      <td>.38 Special</td>\n",
       "      <td>1982</td>\n",
       "      <td>Caught Up in You by .38 Special</td>\n",
       "      <td>1</td>\n",
       "      <td>1</td>\n",
       "      <td>82</td>\n",
       "      <td>82</td>\n",
       "    </tr>\n",
       "    <tr>\n",
       "      <th>1</th>\n",
       "      <td>Fantasy Girl</td>\n",
       "      <td>.38 Special</td>\n",
       "      <td>NaN</td>\n",
       "      <td>Fantasy Girl by .38 Special</td>\n",
       "      <td>1</td>\n",
       "      <td>0</td>\n",
       "      <td>3</td>\n",
       "      <td>0</td>\n",
       "    </tr>\n",
       "    <tr>\n",
       "      <th>2</th>\n",
       "      <td>Hold On Loosely</td>\n",
       "      <td>.38 Special</td>\n",
       "      <td>1981</td>\n",
       "      <td>Hold On Loosely by .38 Special</td>\n",
       "      <td>1</td>\n",
       "      <td>1</td>\n",
       "      <td>85</td>\n",
       "      <td>85</td>\n",
       "    </tr>\n",
       "    <tr>\n",
       "      <th>3</th>\n",
       "      <td>Rockin' Into the Night</td>\n",
       "      <td>.38 Special</td>\n",
       "      <td>1980</td>\n",
       "      <td>Rockin' Into the Night by .38 Special</td>\n",
       "      <td>1</td>\n",
       "      <td>1</td>\n",
       "      <td>18</td>\n",
       "      <td>18</td>\n",
       "    </tr>\n",
       "    <tr>\n",
       "      <th>4</th>\n",
       "      <td>Art For Arts Sake</td>\n",
       "      <td>10cc</td>\n",
       "      <td>1975</td>\n",
       "      <td>Art For Arts Sake by 10cc</td>\n",
       "      <td>1</td>\n",
       "      <td>1</td>\n",
       "      <td>1</td>\n",
       "      <td>1</td>\n",
       "    </tr>\n",
       "  </tbody>\n",
       "</table>\n",
       "</div>"
      ],
      "text/plain": [
       "               song_clean artist_clean release_year  \\\n",
       "0        Caught Up in You  .38 Special         1982   \n",
       "1            Fantasy Girl  .38 Special          NaN   \n",
       "2         Hold On Loosely  .38 Special         1981   \n",
       "3  Rockin' Into the Night  .38 Special         1980   \n",
       "4       Art For Arts Sake         10cc         1975   \n",
       "\n",
       "                                combined  first  year  playcount  fg  \n",
       "0        Caught Up in You by .38 Special      1     1         82  82  \n",
       "1            Fantasy Girl by .38 Special      1     0          3   0  \n",
       "2         Hold On Loosely by .38 Special      1     1         85  85  \n",
       "3  Rockin' Into the Night by .38 Special      1     1         18  18  \n",
       "4              Art For Arts Sake by 10cc      1     1          1   1  "
      ]
     },
     "execution_count": 80,
     "metadata": {},
     "output_type": "execute_result"
    }
   ],
   "source": [
    "# ANSWER\n",
    "rock.rename(columns=lambda col_name: col_name.lower().replace(\" \", \"_\").replace(\"?\", \"\").replace(\"*\", \"\"), inplace=True)\n",
    "rock.head()"
   ]
  },
  {
   "cell_type": "markdown",
   "metadata": {
    "id": "KToV3ub3Vppg"
   },
   "source": [
    "### Replace Null Values With 0\n",
    "\n",
    "Check 'release_year' column whether this column has any null values or not. Replace null values with 0."
   ]
  },
  {
   "cell_type": "code",
   "execution_count": 6,
   "metadata": {
    "id": "BKpu14X8Pcaa"
   },
   "outputs": [
    {
     "data": {
      "text/plain": [
       "np.int64(577)"
      ]
     },
     "execution_count": 6,
     "metadata": {},
     "output_type": "execute_result"
    }
   ],
   "source": [
    "# ANSWER\n",
    "rock.release_year.isnull().any()\n",
    "rock.release_year.isnull().sum()"
   ]
  },
  {
   "cell_type": "code",
   "execution_count": 81,
   "metadata": {},
   "outputs": [],
   "source": [
    "rock['release_year'] = rock.release_year.fillna(0)"
   ]
  },
  {
   "cell_type": "markdown",
   "metadata": {
    "id": "RQ2GyN7MVpph"
   },
   "source": [
    "## Check Datatypes of Dataset\n",
    "\n",
    "Check datatypes of the dataset. Is there any column which should be int instead of object? Fix the column.\n",
    "\n",
    "https://stackoverflow.com/questions/15891038/change-column-type-in-pandas"
   ]
  },
  {
   "cell_type": "code",
   "execution_count": 82,
   "metadata": {
    "id": "hJe7YtjpPeXb"
   },
   "outputs": [
    {
     "data": {
      "text/plain": [
       "song_clean      object\n",
       "artist_clean    object\n",
       "release_year    object\n",
       "combined        object\n",
       "first            int64\n",
       "year             int64\n",
       "playcount        int64\n",
       "fg               int64\n",
       "dtype: object"
      ]
     },
     "execution_count": 82,
     "metadata": {},
     "output_type": "execute_result"
    }
   ],
   "source": [
    "# ANSWER\n",
    "rock.dtypes"
   ]
  },
  {
   "cell_type": "code",
   "execution_count": 83,
   "metadata": {},
   "outputs": [
    {
     "data": {
      "text/plain": [
       "song_clean      object\n",
       "artist_clean    object\n",
       "release_year     Int64\n",
       "combined        object\n",
       "first            int64\n",
       "year             int64\n",
       "playcount        int64\n",
       "fg               int64\n",
       "dtype: object"
      ]
     },
     "execution_count": 83,
     "metadata": {},
     "output_type": "execute_result"
    }
   ],
   "source": [
    "# rock['release_year'] = rock['release_year'].astype('int')\n",
    "\n",
    "\n",
    "# To get integer column, use pd.NA -- integer version (type) of NaN\n",
    "# Must use \"Int64\", \"Int32\", etc. (capital \"I\") as dtype instead of \"int64\", \"int32\", etc. \n",
    "rock['release_year'] = pd.to_numeric(rock.release_year, errors=\"coerce\").fillna(pd.NA).astype('Int64')\n",
    "rock.dtypes"
   ]
  },
  {
   "cell_type": "markdown",
   "metadata": {
    "id": "fCzoReoXVpph"
   },
   "source": [
    "## Check Min, Max of Each Column\n",
    "\n",
    "Is there any illogical value in any column? How can we fix that?"
   ]
  },
  {
   "cell_type": "code",
   "execution_count": 20,
   "metadata": {
    "id": "ANbfndqRPgII"
   },
   "outputs": [
    {
     "name": "stdout",
     "output_type": "stream",
     "text": [
      "               song_clean artist_clean  release_year  \\\n",
      "0        Caught Up in You  .38 Special          1982   \n",
      "1            Fantasy Girl  .38 Special             0   \n",
      "2         Hold On Loosely  .38 Special          1981   \n",
      "3  Rockin' Into the Night  .38 Special          1980   \n",
      "4       Art For Arts Sake         10cc          1975   \n",
      "\n",
      "                                combined  first  year  playcount  fg  \n",
      "0        Caught Up in You by .38 Special      1     1         82  82  \n",
      "1            Fantasy Girl by .38 Special      1     0          3   0  \n",
      "2         Hold On Loosely by .38 Special      1     1         85  85  \n",
      "3  Rockin' Into the Night by .38 Special      1     1         18  18  \n",
      "4              Art For Arts Sake by 10cc      1     1          1   1  \n",
      "\n",
      "song_clean: min = #9 Dream | max = Ziggy Stardust\n",
      "\n",
      "artist_clean: min = .38 Special | max = a-ha\n",
      "\n",
      "release_year: min = 0 | max = 2014\n",
      "\n",
      "combined: min = #9 Dream by John Lennon | max = Ziggy Stardust by David Bowie\n",
      "\n",
      "first: min = 1 | max = 1\n",
      "\n",
      "year: min = 0 | max = 1\n",
      "\n",
      "playcount: min = 0 | max = 142\n",
      "\n",
      "fg: min = 0 | max = 142\n"
     ]
    }
   ],
   "source": [
    "# ANSWER\n",
    "print(rock.head())\n",
    "for col in rock.columns:\n",
    "    print(f\"\\n{col}: min = {rock[col].min()} | max = {rock[col].max()}\")\n",
    "\n",
    "# I do not see an illogical value, even though the question seems to imply there is one.\n",
    "#  - Is it \"a=ha\" as the max value of artist_clean? I do not worry too much about string sorting\n",
    "#  - I don't know what the 'year', 'first', and 'fg' columns represent"
   ]
  },
  {
   "cell_type": "code",
   "execution_count": 21,
   "metadata": {},
   "outputs": [
    {
     "data": {
      "text/plain": [
       "array(['.38 Special', '10cc', '3 Doors Down', '4 Non Blondes', 'a-ha',\n",
       "       'AC/DC', 'Ace', 'Adelitas Way', 'Aerosmith', 'Alanis Morissette',\n",
       "       'Alannah Myles', 'Aldo Nova', 'Alice Cooper', 'Alice In Chains',\n",
       "       'Allman Brothers Band', 'America', 'Animals II', 'Ann Wilson',\n",
       "       'April Wine', 'Argent', 'Arlo Guthrie', 'Artful Dodger', 'Asia',\n",
       "       'Atlanta Rhythm Section', 'Audioslave', 'Autograph', 'Axe',\n",
       "       'Bachman-Turner Overdrive', 'Bad Company', 'Bad English',\n",
       "       'Badfinger', 'Baton Rouge', 'Beastie Boys', 'Beck', 'Big Country',\n",
       "       'Bill Haley', 'Bill Withers', 'Billy Idol', 'Billy Joel',\n",
       "       'Billy Rankin', 'Billy Squier', 'Billy Thorpe', 'Black Sabbath',\n",
       "       'Blackfoot', 'Blind Faith', 'Blind Melon', 'Blink-182', 'Blondie',\n",
       "       'Blue Oyster Cult', 'Blur', 'Bob Dylan', 'Bob Marley', 'Bob Seger',\n",
       "       'Bob Welch', 'Bon Jovi', 'Bonham', \"Booker T. and the MG's\",\n",
       "       'Boston', 'Boz Scaggs', 'Brewer & Shipley',\n",
       "       'Bruce Hornsby & The Range', 'Bruce Springsteen', 'Bryan Adams',\n",
       "       'Buckcherry', 'Buffalo Springfield', 'Bush', 'Candlebox',\n",
       "       'Canned Heat', 'Carole King', 'Cat Stevens',\n",
       "       'Charlie Daniels Band', 'Cheap Trick', 'Chevelle', 'Chicago',\n",
       "       'Chuck Berry', 'Cinderella', 'Clarks', 'Collective Soul',\n",
       "       'Commander Cody', 'Coney Hatch', 'Counting Crows', 'Cracker',\n",
       "       'Cream', 'Creed', 'Creedence Clearwater Revival',\n",
       "       'Crosby, Stills & Nash', 'Crosby, Stills, Nash & Young',\n",
       "       'Cutting Crew', 'Damn Yankees', 'Dave Edmunds', 'Dave Mason',\n",
       "       'David & David', 'David Bowie', 'David Essex', 'David Gilmour',\n",
       "       'David Johansen', 'David Lee Roth', 'Deep Purple', 'Def Leppard',\n",
       "       'Depeche Mode', 'Derek & The Dominos', 'Detective', 'Dick Siegel',\n",
       "       'Dio', 'Dire Straits', 'Dishwalla', 'Dobie Gray', 'Dokken',\n",
       "       'Don Felder', 'Don Henley', 'Don McLean', 'Donnie Iris', 'Donovan',\n",
       "       'Dr. Hook & the Medicine Show', 'Dr. John', 'Dramarama',\n",
       "       'Led Zeppelin', 'Duran Duran', 'Eagles', 'Eddie Money',\n",
       "       'Edgar Winter Group', 'Edwin Starr', 'Electric Light Orchestra',\n",
       "       'Elton John', 'Elvin Bishop', 'Elvis Costello',\n",
       "       'Emerson, Lake & Palmer', 'Eric Clapton', 'Eric Johnson', 'Europe',\n",
       "       'Eurythmics', 'Eve 6', 'Everclear', 'Everlast', 'Extreme', 'Faces',\n",
       "       'Faith No More', 'Faster Pussycat', 'Firm',\n",
       "       'Five Man Electrical Band', 'Fleetwood Mac', 'Focus', 'Foghat',\n",
       "       'Foo Fighters', 'Foreigner', 'Frank Zappa', 'Free', 'Funkadelic',\n",
       "       'Gary Numan', 'Gary Wright', 'Genesis', 'George Harrison',\n",
       "       'George Thorogood', 'Georgia Satellites', 'Gerry Rafferty',\n",
       "       'Gin Blossoms', 'Glenn Frey', 'Gold Star Ballroom Orchestra',\n",
       "       'Golden Earring', 'Gordon Lightfoot', \"Gov't Mule\",\n",
       "       'Grand Funk Railroad', 'Grateful Dead', 'Great White', 'Green Day',\n",
       "       'Greg Kihn Band', 'Gregg Allman', 'Guess Who', \"Guns N' Roses\",\n",
       "       'Gypsy', 'Harold Faltermeyer', 'Harry Chapin', 'Harry Nilsson',\n",
       "       'Head East', 'Heart', 'Heartsfield', 'HellYeah', 'Henry Paul Band',\n",
       "       'Hollies', 'Honeymoon Suite', 'Hooters', 'Huey Lewis & The News',\n",
       "       'Humble Pie', 'Iggy Pop', 'Imagine Dragons', 'INXS',\n",
       "       'Iron Butterfly', 'Iron Maiden', 'J. Geils Band', 'Jackson Browne',\n",
       "       'James Gang', 'JAMES TAYLOR', \"Jane's Addiction\", 'Janis Joplin',\n",
       "       'Jay Ferguson', 'Jeff Beck', 'Jefferson Airplane',\n",
       "       'Jefferson Starship', 'Jesus Jones', 'Jet', 'Jethro Tull',\n",
       "       'Jim Croce', 'Jimi Hendrix', 'Jimmy Buffett', 'Joan Jett',\n",
       "       'Joe Cocker', 'Joe Jackson', 'Joe Satriani', 'Joe Walsh',\n",
       "       'John Cafferty', 'John Fogerty', 'John Lennon', 'John Mellencamp',\n",
       "       'John Prine', 'Johnny Nash', 'Johnny Van Zant', 'Jonathan Edwards',\n",
       "       'Jonathan Richman', 'Journey', 'Judas Priest', 'Junkyard',\n",
       "       'Kansas', 'Kenny Loggins', 'Kenny Wayne Shepherd', 'Kid Rock',\n",
       "       'Kingofthehill', 'Kings of Leon', 'Kiss', 'Krokus', 'L.A. Guns',\n",
       "       'Lake', 'Lee Michaels', 'Legs Diamond', 'Lenny Kravitz',\n",
       "       'Leon Russell', 'Lit', 'Lita Ford', 'Little Feat', 'Live',\n",
       "       'Living Colour', 'Local H', 'London Symphony Orchestra',\n",
       "       'Lou Gramm', 'Lou Reed', 'Loverboy', 'Lynch Mob', 'Lynyrd Skynyrd',\n",
       "       \"Mama's Pride\", 'Manfred Mann', 'Marcy Playground', 'Meat Loaf',\n",
       "       'Melissa Etheridge', 'Men At Work', 'Metallica', 'Michael Nesmith',\n",
       "       'Michael Stanley', 'Midnight Oil', 'Mitch Ryder', 'Modern English',\n",
       "       'Molkie Cole', 'Molly Hatchet', 'Monroes', 'Montrose',\n",
       "       'Motley Crue', 'Mott the Hoople', 'Mountain', 'Moxy', 'Mr. Big',\n",
       "       'Mungo Jerry', 'Nazareth', 'Neil Young', 'Nektar', 'Nickelback',\n",
       "       'Night Ranger', 'Nirvana', 'Norman Greenbaum', 'Nothing More',\n",
       "       'Oasis', 'Orleans', 'Otis Redding', 'Ozark Mountain Daredevils',\n",
       "       'Ozzy Osbourne', 'Pat Benatar', 'Pat Travers',\n",
       "       'Paul McCartney & Linda McCartney', 'Paul McCartney & Wings',\n",
       "       'Paul Simon', 'Pearl Jam', 'Pete Townshend', 'Peter Frampton',\n",
       "       'Peter Gabriel', 'Phil Collins', 'Pink Floyd', 'Poison',\n",
       "       'Procol Harum', 'Puddle of Mudd', 'Pure Prairie League', 'Queen',\n",
       "       'Queen / David Bowie', 'Queens of the Stone Age', 'Queensryche',\n",
       "       'Quicksilver Messenger Service', 'Quiet Riot', 'R.E.M.', 'Rainbow',\n",
       "       'Ram Jam', 'Ratt', 'Red Hot Chili Peppers', 'Red Rider',\n",
       "       'REO Speedwagon', 'Rick Derringer', 'Rick Springfield',\n",
       "       'Ringo Starr', 'Robert Palmer', 'Robert Plant', 'Robert Tepper',\n",
       "       'Robin Trower', 'Rockets', 'Rocky Burnette', 'Rod Stewart',\n",
       "       'Roger Daltry', 'Roger Hodgson', 'Rolling Stones',\n",
       "       'Rory Gallagher', 'Royal Bliss', 'Rush', 'Russ Ballard', 'Saga',\n",
       "       'Sam & Dave', 'Sammy Hagar', 'Santana', 'Scandal',\n",
       "       'School Of Fish', 'Scorpions', 'Seether', 'Sex Pistols', 'Sherbs',\n",
       "       'Shinedown', 'Simon & Garfunkel', 'Simple Minds', 'Skid Row',\n",
       "       'Slaughter', 'Smash Mouth', 'Smashing Pumpkins',\n",
       "       \"Sniff 'n' the Tears\", 'Soft Cell', 'Soundgarden',\n",
       "       'Southside Johnny', 'Spencer Davis Group', 'Spin Doctors',\n",
       "       'Squeeze', 'Staind', 'Starset', 'Stealers Wheel', 'Steely Dan',\n",
       "       'Stephen Stills', 'Steppenwolf', 'Steve Earle',\n",
       "       'Steve Miller Band', 'Steve Perry', 'Steve Winwood',\n",
       "       'Steven Stills', 'Stevie Nicks',\n",
       "       'Stevie Nicks w/ Tom Petty and the Heartbreakers',\n",
       "       'Stevie Ray Vaughan', 'Stevie Wonder', 'Sting',\n",
       "       'Stone Temple Pilots', 'Stray Cats', 'Stryper', 'Stu Nunnery',\n",
       "       'Styx', 'Sublime', 'Sugar Ray', 'Sugarloaf', 'Supertramp',\n",
       "       'Survivor', 'Sweet', 'T. Rex', 'Talking Heads', 'Taxxi',\n",
       "       'Tears for Fears', 'Ted Nugent', 'Temple of the Dog',\n",
       "       'Ten Years After', 'Tesla', 'The Alan Parsons Project',\n",
       "       'The Alarm (IRS)', 'The Amboy Dukes', 'The Animals', \"The B-52's\",\n",
       "       'The Babys', 'The Band', 'The Beach Boys', 'The Beatles',\n",
       "       'The Black Crowes', 'The Black Keys', 'The Blues Brothers',\n",
       "       'The Byrds', 'The Cars', 'The Clash', 'The Cult',\n",
       "       'The Doobie Brothers', 'The Doors', 'The Fabulous Thunderbirds',\n",
       "       'The Firm', 'The Fixx', 'The Goo Goo Dolls', 'The James Gang',\n",
       "       'The Kings', 'The Kinks', 'The Knack', 'The Lemonheads',\n",
       "       \"The Lovin' Spoonful\", 'The Mamas ', 'The Marshall Tucker Band',\n",
       "       'The Moody Blues', 'The New Eagles', 'The Offspring',\n",
       "       'The Outfield', 'The Outlaws', 'The Police', 'The Power Station',\n",
       "       'The Pretenders', 'The Ramones', 'The Romantics',\n",
       "       'The Small Faces', 'The Smithereens', 'The Spencer Davis Group',\n",
       "       'The Standells', 'The Traveling Wilburys', 'The Tubes',\n",
       "       'The Wallflowers', 'The White Stripes', 'The Who',\n",
       "       'The Youngbloods', 'Thin Lizzy', 'Third Eye Blind',\n",
       "       'Thunderclap Newman', 'Todd Rundgren', 'Tom Cochrane',\n",
       "       'Tom Petty & The Heartbreakers', 'Tommy Tutone', 'Tonic', 'Toto',\n",
       "       'Traffic', 'Trapeze', 'Triumph', 'Turtles', 'Twisted Sister', 'U2',\n",
       "       'UB40', 'UFO', 'Uriah Heep', 'Van Halen', 'Van Morrison',\n",
       "       'Violent Femmes', 'Vixen', 'War', 'Warrant', 'Warren Zevon',\n",
       "       'Weezer', 'Wet Willie', 'White Lion', 'Whitesnake', 'Why Not',\n",
       "       'Wild Cherry', 'Wildlife', 'Winger', 'Wishbone Ash', 'Y&T', 'Yes',\n",
       "       'Zebra', 'Zombies', 'ZZ Top'], dtype=object)"
      ]
     },
     "execution_count": 21,
     "metadata": {},
     "output_type": "execute_result"
    }
   ],
   "source": [
    "rock.artist_clean.unique()"
   ]
  },
  {
   "cell_type": "markdown",
   "metadata": {
    "id": "NzJieuuyVppi"
   },
   "source": [
    "## Write Some Functions"
   ]
  },
  {
   "cell_type": "markdown",
   "metadata": {
    "id": "2jYAjnOVVppi"
   },
   "source": [
    "### Write a function that will take a row of a DataFrame and print out the song, artist, and whether or not the release date is < 1970"
   ]
  },
  {
   "cell_type": "code",
   "execution_count": 34,
   "metadata": {
    "id": "DbzBVN6nPtKf"
   },
   "outputs": [
    {
     "name": "stdout",
     "output_type": "stream",
     "text": [
      "1975\n",
      "\"Toys in the Attic\" by Aerosmith was released after 1970.\n"
     ]
    }
   ],
   "source": [
    "# ANSWER\n",
    "def print_row(row):\n",
    "    when = \"before\" if row.release_year.item() < 1970 else \"after\"\n",
    "    print(f'\"{row.song_clean}\" by {row.artist_clean} was released {when} 1970.')\n",
    "\n",
    "print_row(rock.iloc[67])"
   ]
  },
  {
   "cell_type": "markdown",
   "metadata": {
    "id": "tk1XfgtkVppj"
   },
   "source": [
    "### Write a function that converts a column in a DataFrame to a numeric type and otherwise replaces entries with np.nan"
   ]
  },
  {
   "cell_type": "code",
   "execution_count": 4,
   "metadata": {
    "id": "GHhBft24Pt5I"
   },
   "outputs": [],
   "source": [
    "# ANSWER\n",
    "def convert_to_numeric(df, col_name):\n",
    "    df[col_name] = pd.to_numeric(df[col_name], errors='coerce')"
   ]
  },
  {
   "cell_type": "markdown",
   "metadata": {
    "id": "EEIsPER2Vppj"
   },
   "source": [
    "### Apply this last function to your dataset"
   ]
  },
  {
   "cell_type": "code",
   "execution_count": 5,
   "metadata": {
    "id": "dDdI3wNtPuhm"
   },
   "outputs": [
    {
     "data": {
      "text/plain": [
       "song_clean       object\n",
       "artist_clean     object\n",
       "release_year    float64\n",
       "combined         object\n",
       "first             int64\n",
       "year              int64\n",
       "playcount         int64\n",
       "fg                int64\n",
       "dtype: object"
      ]
     },
     "execution_count": 5,
     "metadata": {},
     "output_type": "execute_result"
    }
   ],
   "source": [
    "# reset dataframe\n",
    "rock = pd.read_csv('../DATA/rock.csv')\n",
    "rock.rename(columns=lambda col_name: col_name.lower().replace(\" \", \"_\").replace(\"?\", \"\").replace(\"*\", \"\"), inplace=True)\n",
    "\n",
    "# apply function\n",
    "convert_to_numeric(rock, \"release_year\")\n",
    "\n",
    "rock.dtypes"
   ]
  },
  {
   "cell_type": "code",
   "execution_count": null,
   "metadata": {},
   "outputs": [],
   "source": [
    "rock.dtypes"
   ]
  },
  {
   "cell_type": "markdown",
   "metadata": {
    "id": "Jz86dxCFVppk"
   },
   "source": [
    "### 'Describe' the new DataFrame"
   ]
  },
  {
   "cell_type": "code",
   "execution_count": 89,
   "metadata": {
    "id": "AuqD25nDPvqn"
   },
   "outputs": [
    {
     "data": {
      "text/html": [
       "<div>\n",
       "<style scoped>\n",
       "    .dataframe tbody tr th:only-of-type {\n",
       "        vertical-align: middle;\n",
       "    }\n",
       "\n",
       "    .dataframe tbody tr th {\n",
       "        vertical-align: top;\n",
       "    }\n",
       "\n",
       "    .dataframe thead th {\n",
       "        text-align: right;\n",
       "    }\n",
       "</style>\n",
       "<table border=\"1\" class=\"dataframe\">\n",
       "  <thead>\n",
       "    <tr style=\"text-align: right;\">\n",
       "      <th></th>\n",
       "      <th>release_year</th>\n",
       "      <th>first</th>\n",
       "      <th>year</th>\n",
       "      <th>playcount</th>\n",
       "      <th>fg</th>\n",
       "    </tr>\n",
       "  </thead>\n",
       "  <tbody>\n",
       "    <tr>\n",
       "      <th>count</th>\n",
       "      <td>1652.000000</td>\n",
       "      <td>2230.0</td>\n",
       "      <td>2230.000000</td>\n",
       "      <td>2230.000000</td>\n",
       "      <td>2230.000000</td>\n",
       "    </tr>\n",
       "    <tr>\n",
       "      <th>mean</th>\n",
       "      <td>1978.019976</td>\n",
       "      <td>1.0</td>\n",
       "      <td>0.741256</td>\n",
       "      <td>16.872646</td>\n",
       "      <td>15.048430</td>\n",
       "    </tr>\n",
       "    <tr>\n",
       "      <th>std</th>\n",
       "      <td>24.191247</td>\n",
       "      <td>0.0</td>\n",
       "      <td>0.438043</td>\n",
       "      <td>25.302972</td>\n",
       "      <td>25.288366</td>\n",
       "    </tr>\n",
       "    <tr>\n",
       "      <th>min</th>\n",
       "      <td>1071.000000</td>\n",
       "      <td>1.0</td>\n",
       "      <td>0.000000</td>\n",
       "      <td>0.000000</td>\n",
       "      <td>0.000000</td>\n",
       "    </tr>\n",
       "    <tr>\n",
       "      <th>25%</th>\n",
       "      <td>1971.000000</td>\n",
       "      <td>1.0</td>\n",
       "      <td>0.000000</td>\n",
       "      <td>1.000000</td>\n",
       "      <td>0.000000</td>\n",
       "    </tr>\n",
       "    <tr>\n",
       "      <th>50%</th>\n",
       "      <td>1977.000000</td>\n",
       "      <td>1.0</td>\n",
       "      <td>1.000000</td>\n",
       "      <td>4.000000</td>\n",
       "      <td>3.000000</td>\n",
       "    </tr>\n",
       "    <tr>\n",
       "      <th>75%</th>\n",
       "      <td>1984.000000</td>\n",
       "      <td>1.0</td>\n",
       "      <td>1.000000</td>\n",
       "      <td>21.000000</td>\n",
       "      <td>18.000000</td>\n",
       "    </tr>\n",
       "    <tr>\n",
       "      <th>max</th>\n",
       "      <td>2014.000000</td>\n",
       "      <td>1.0</td>\n",
       "      <td>1.000000</td>\n",
       "      <td>142.000000</td>\n",
       "      <td>142.000000</td>\n",
       "    </tr>\n",
       "  </tbody>\n",
       "</table>\n",
       "</div>"
      ],
      "text/plain": [
       "       release_year   first         year    playcount           fg\n",
       "count   1652.000000  2230.0  2230.000000  2230.000000  2230.000000\n",
       "mean    1978.019976     1.0     0.741256    16.872646    15.048430\n",
       "std       24.191247     0.0     0.438043    25.302972    25.288366\n",
       "min     1071.000000     1.0     0.000000     0.000000     0.000000\n",
       "25%     1971.000000     1.0     0.000000     1.000000     0.000000\n",
       "50%     1977.000000     1.0     1.000000     4.000000     3.000000\n",
       "75%     1984.000000     1.0     1.000000    21.000000    18.000000\n",
       "max     2014.000000     1.0     1.000000   142.000000   142.000000"
      ]
     },
     "execution_count": 89,
     "metadata": {},
     "output_type": "execute_result"
    }
   ],
   "source": [
    "# ANSWER\n",
    "rock.describe()"
   ]
  },
  {
   "cell_type": "markdown",
   "metadata": {
    "id": "w2asO3_lDFm8"
   },
   "source": [
    ">\n"
   ]
  },
  {
   "cell_type": "markdown",
   "metadata": {
    "id": "MlasiTKgDGdA"
   },
   "source": [
    "\n",
    "\n",
    "---\n",
    "\n",
    "\n",
    "\n",
    "---\n",
    "\n",
    "\n",
    "\n",
    "> > > > > > > > > © 2024 Institute of Data\n",
    "\n",
    "\n",
    "---\n",
    "\n",
    "\n",
    "\n",
    "---\n",
    "\n",
    "\n",
    "\n"
   ]
  }
 ],
 "metadata": {
  "colab": {
   "provenance": [],
   "toc_visible": true
  },
  "kernelspec": {
   "display_name": "IOD2",
   "language": "python",
   "name": "python3"
  },
  "language_info": {
   "codemirror_mode": {
    "name": "ipython",
    "version": 3
   },
   "file_extension": ".py",
   "mimetype": "text/x-python",
   "name": "python",
   "nbconvert_exporter": "python",
   "pygments_lexer": "ipython3",
   "version": "3.10.14"
  },
  "varInspector": {
   "cols": {
    "lenName": 16,
    "lenType": 16,
    "lenVar": 40
   },
   "kernels_config": {
    "python": {
     "delete_cmd_postfix": "",
     "delete_cmd_prefix": "del ",
     "library": "var_list.py",
     "varRefreshCmd": "print(var_dic_list())"
    },
    "r": {
     "delete_cmd_postfix": ") ",
     "delete_cmd_prefix": "rm(",
     "library": "var_list.r",
     "varRefreshCmd": "cat(var_dic_list()) "
    }
   },
   "types_to_exclude": [
    "module",
    "function",
    "builtin_function_or_method",
    "instance",
    "_Feature"
   ],
   "window_display": false
  }
 },
 "nbformat": 4,
 "nbformat_minor": 0
}
