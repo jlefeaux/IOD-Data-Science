{
 "cells": [
  {
   "cell_type": "markdown",
   "metadata": {},
   "source": [
    "# USA Names: USA name data from 1937 \n",
    "\n",
    "This public dataset was created by the Social Security Administration and contains all names from Social Security card applications for births that occurred in the United States after 1879. Note that many people born before 1937 never applied for a Social Security card, so their names are not included in this data. For others who did apply, records may not show the place of birth, and again their names are not included in the data.\n",
    "\n",
    "All data are from a 100% sample of records on Social Security card applications as of the end of February 2015. To safeguard privacy, the Social Security Administration restricts names to those with at least 5 occurrences. "
   ]
  },
  {
   "cell_type": "markdown",
   "metadata": {},
   "source": [
    "#### Libraries"
   ]
  },
  {
   "cell_type": "code",
   "execution_count": 2,
   "metadata": {},
   "outputs": [],
   "source": [
    "from google.cloud import bigquery\n",
    "from google.cloud.bigquery import Dataset\n",
    "from google.cloud import storage\n",
    "\n",
    "import pandas as pd"
   ]
  },
  {
   "cell_type": "markdown",
   "metadata": {},
   "source": [
    "#### Set up to query the data"
   ]
  },
  {
   "cell_type": "code",
   "execution_count": 3,
   "metadata": {},
   "outputs": [],
   "source": [
    "key_path = \"C:/IOD/Module_3/spry-semiotics-436014-i6-575a59bcf0cf.json\"\n",
    "client = bigquery.Client.from_service_account_json(key_path)\n",
    "table_id = \"bigquery-public-data.usa_names.usa_1910_current\""
   ]
  },
  {
   "cell_type": "markdown",
   "metadata": {},
   "source": [
    "#### How big is this dataset?"
   ]
  },
  {
   "cell_type": "code",
   "execution_count": 4,
   "metadata": {},
   "outputs": [
    {
     "name": "stdout",
     "output_type": "stream",
     "text": [
      "6,311,504 rows\n"
     ]
    }
   ],
   "source": [
    "row_count_query = f\"SELECT count(1) as num_rows FROM {table_id}\"\n",
    "query_job = client.query(row_count_query)\n",
    "\n",
    "for row in query_job:  # API request - fetches results\n",
    "    # Row values can be accessed by field name or index:\n",
    "    assert row[0] == row.num_rows == row['num_rows']  #: for debugging bad sql\n",
    "    print(f\"{row.num_rows:,} rows\")\n"
   ]
  },
  {
   "cell_type": "markdown",
   "metadata": {},
   "source": [
    "# What are the most popular names for girls and for boys in Louisiana?"
   ]
  },
  {
   "cell_type": "markdown",
   "metadata": {},
   "source": [
    "## Louisiana names 2019-2021\n",
    "(The data set only goes up to 2021)"
   ]
  },
  {
   "cell_type": "markdown",
   "metadata": {},
   "source": [
    "## Run the query through the BigQuery API & load the results into a DataFrame\n",
    "- state = Louisiana\n",
    "- year >= 2019\n",
    "- Drop the 'state' column from the results since it is no longer needed\n"
   ]
  },
  {
   "cell_type": "code",
   "execution_count": 5,
   "metadata": {},
   "outputs": [
    {
     "name": "stderr",
     "output_type": "stream",
     "text": [
      "c:\\Users\\jlefe\\.conda\\envs\\IOD2\\lib\\site-packages\\google\\cloud\\bigquery\\table.py:1727: UserWarning: BigQuery Storage module not found, fetch data with the REST endpoint instead.\n",
      "  warnings.warn(\n"
     ]
    },
    {
     "data": {
      "text/html": [
       "<div>\n",
       "<style scoped>\n",
       "    .dataframe tbody tr th:only-of-type {\n",
       "        vertical-align: middle;\n",
       "    }\n",
       "\n",
       "    .dataframe tbody tr th {\n",
       "        vertical-align: top;\n",
       "    }\n",
       "\n",
       "    .dataframe thead th {\n",
       "        text-align: right;\n",
       "    }\n",
       "</style>\n",
       "<table border=\"1\" class=\"dataframe\">\n",
       "  <thead>\n",
       "    <tr style=\"text-align: right;\">\n",
       "      <th></th>\n",
       "      <th>gender</th>\n",
       "      <th>year</th>\n",
       "      <th>name</th>\n",
       "      <th>number</th>\n",
       "    </tr>\n",
       "  </thead>\n",
       "  <tbody>\n",
       "    <tr>\n",
       "      <th>0</th>\n",
       "      <td>F</td>\n",
       "      <td>2019</td>\n",
       "      <td>Olivia</td>\n",
       "      <td>255</td>\n",
       "    </tr>\n",
       "    <tr>\n",
       "      <th>1</th>\n",
       "      <td>F</td>\n",
       "      <td>2019</td>\n",
       "      <td>Ava</td>\n",
       "      <td>236</td>\n",
       "    </tr>\n",
       "    <tr>\n",
       "      <th>2</th>\n",
       "      <td>F</td>\n",
       "      <td>2019</td>\n",
       "      <td>Amelia</td>\n",
       "      <td>208</td>\n",
       "    </tr>\n",
       "    <tr>\n",
       "      <th>3</th>\n",
       "      <td>F</td>\n",
       "      <td>2019</td>\n",
       "      <td>Emma</td>\n",
       "      <td>200</td>\n",
       "    </tr>\n",
       "    <tr>\n",
       "      <th>4</th>\n",
       "      <td>F</td>\n",
       "      <td>2019</td>\n",
       "      <td>Harper</td>\n",
       "      <td>173</td>\n",
       "    </tr>\n",
       "    <tr>\n",
       "      <th>5</th>\n",
       "      <td>F</td>\n",
       "      <td>2019</td>\n",
       "      <td>Charlotte</td>\n",
       "      <td>149</td>\n",
       "    </tr>\n",
       "    <tr>\n",
       "      <th>6</th>\n",
       "      <td>F</td>\n",
       "      <td>2019</td>\n",
       "      <td>Sophia</td>\n",
       "      <td>134</td>\n",
       "    </tr>\n",
       "    <tr>\n",
       "      <th>7</th>\n",
       "      <td>F</td>\n",
       "      <td>2019</td>\n",
       "      <td>Ella</td>\n",
       "      <td>124</td>\n",
       "    </tr>\n",
       "    <tr>\n",
       "      <th>8</th>\n",
       "      <td>F</td>\n",
       "      <td>2019</td>\n",
       "      <td>Avery</td>\n",
       "      <td>118</td>\n",
       "    </tr>\n",
       "    <tr>\n",
       "      <th>9</th>\n",
       "      <td>F</td>\n",
       "      <td>2019</td>\n",
       "      <td>Isabella</td>\n",
       "      <td>117</td>\n",
       "    </tr>\n",
       "  </tbody>\n",
       "</table>\n",
       "</div>"
      ],
      "text/plain": [
       "  gender  year       name  number\n",
       "0      F  2019     Olivia     255\n",
       "1      F  2019        Ava     236\n",
       "2      F  2019     Amelia     208\n",
       "3      F  2019       Emma     200\n",
       "4      F  2019     Harper     173\n",
       "5      F  2019  Charlotte     149\n",
       "6      F  2019     Sophia     134\n",
       "7      F  2019       Ella     124\n",
       "8      F  2019      Avery     118\n",
       "9      F  2019   Isabella     117"
      ]
     },
     "execution_count": 5,
     "metadata": {},
     "output_type": "execute_result"
    }
   ],
   "source": [
    "# la_recent_names_query = f\"SELECT * FROM {table_id} WHERE state = 'LA' AND year >=2019\"\n",
    "la_recent_names_query = f\"SELECT gender, year, name, number FROM {table_id} WHERE state = 'LA' AND year >=2019\"\n",
    "query_job = client.query(la_recent_names_query)\n",
    "query_results = query_job.result()\n",
    "\n",
    "# query_job.result() returns a RowIterator object\n",
    "# .to_dataframe() is a method of the RowIterator\n",
    "la_recent_names = query_results.to_dataframe()\n",
    "\n",
    "# How is it that we were able to call .to_dataframe() directly on query_job in the previous lab?\n",
    "\n",
    "# Recall that you can only use an iterator once!\n",
    "# To use query_results again it must be generated again\n",
    "\n",
    "la_recent_names.head(10)"
   ]
  },
  {
   "cell_type": "markdown",
   "metadata": {},
   "source": [
    "## Top names by year\n",
    "Get the most popular names for each of the 3 years by using the Pandas method `nlargest`.\n",
    "\n",
    "This method is only available for a `SeriesGroupBy` object, not `DataFrameGroupBy`s, so we convert the table to a series.\n",
    "1. Move all of the other columns into the index, resulting in a dataframe with only one column\n",
    "2. Convert that single-column dataframe to a Series with a multi-index by selecting that column"
   ]
  },
  {
   "cell_type": "markdown",
   "metadata": {},
   "source": [
    "### Reindex the dataframe"
   ]
  },
  {
   "cell_type": "code",
   "execution_count": 6,
   "metadata": {},
   "outputs": [
    {
     "name": "stdout",
     "output_type": "stream",
     "text": [
      "                    number\n",
      "gender year name          \n",
      "F      2019 Olivia     255\n",
      "            Ava        236\n",
      "            Amelia     208\n",
      "            Emma       200\n",
      "            Harper     173\n",
      "<class 'pandas.core.frame.DataFrame'>\n"
     ]
    }
   ],
   "source": [
    "names_reindexed = la_recent_names.set_index(['gender', 'year', 'name'])\n",
    "print(names_reindexed.head())\n",
    "print(type(names_reindexed))"
   ]
  },
  {
   "cell_type": "markdown",
   "metadata": {},
   "source": [
    "### Convert to a Series"
   ]
  },
  {
   "cell_type": "code",
   "execution_count": 7,
   "metadata": {},
   "outputs": [
    {
     "name": "stdout",
     "output_type": "stream",
     "text": [
      "gender  year  name  \n",
      "F       2019  Olivia    255\n",
      "              Ava       236\n",
      "              Amelia    208\n",
      "              Emma      200\n",
      "              Harper    173\n",
      "Name: number, dtype: Int64\n",
      "<class 'pandas.core.series.Series'>\n"
     ]
    }
   ],
   "source": [
    "names_series = names_reindexed['number']\n",
    "print(names_series.head(5))\n",
    "print(type(names_series))"
   ]
  },
  {
   "cell_type": "markdown",
   "metadata": {},
   "source": [
    "Group the series to use `nlargest`.\n",
    "\n",
    "👉🏼 This second `groupby` duplicates the `['gender', 'year']` index, so use `reset_index` (with `drop=True`) to remove the duplicate."
   ]
  },
  {
   "cell_type": "code",
   "execution_count": 8,
   "metadata": {},
   "outputs": [
    {
     "data": {
      "text/plain": [
       "gender  year  name     \n",
       "F       2019  Olivia       255\n",
       "              Ava          236\n",
       "              Amelia       208\n",
       "              Emma         200\n",
       "              Harper       173\n",
       "        2020  Ava          261\n",
       "              Amelia       225\n",
       "              Olivia       212\n",
       "              Emma         190\n",
       "              Charlotte    153\n",
       "        2021  Olivia       263\n",
       "              Ava          218\n",
       "              Amelia       202\n",
       "              Charlotte    179\n",
       "              Emma         165\n",
       "M       2019  Noah         290\n",
       "              Elijah       284\n",
       "              Liam         283\n",
       "              James        209\n",
       "              William      191\n",
       "        2020  Liam         251\n",
       "              Elijah       237\n",
       "              Noah         218\n",
       "              John         182\n",
       "              William      182\n",
       "        2021  Liam         261\n",
       "              Noah         241\n",
       "              Elijah       220\n",
       "              James        204\n",
       "              William      182\n",
       "Name: number, dtype: Int64"
      ]
     },
     "execution_count": 8,
     "metadata": {},
     "output_type": "execute_result"
    }
   ],
   "source": [
    "n = 5\n",
    "largest = names_series.groupby(['gender', 'year']).nlargest(n).reset_index(level=[0, 1], drop=True)\n",
    "largest"
   ]
  },
  {
   "cell_type": "markdown",
   "metadata": {},
   "source": [
    "## Show the top names on a parallel coordinates chart"
   ]
  },
  {
   "cell_type": "markdown",
   "metadata": {},
   "source": [
    "### Reshape for plotting"
   ]
  },
  {
   "cell_type": "markdown",
   "metadata": {},
   "source": [
    "#### Make each year a column in the dataset"
   ]
  },
  {
   "cell_type": "code",
   "execution_count": 9,
   "metadata": {},
   "outputs": [
    {
     "data": {
      "text/html": [
       "<div>\n",
       "<style scoped>\n",
       "    .dataframe tbody tr th:only-of-type {\n",
       "        vertical-align: middle;\n",
       "    }\n",
       "\n",
       "    .dataframe tbody tr th {\n",
       "        vertical-align: top;\n",
       "    }\n",
       "\n",
       "    .dataframe thead th {\n",
       "        text-align: right;\n",
       "    }\n",
       "</style>\n",
       "<table border=\"1\" class=\"dataframe\">\n",
       "  <thead>\n",
       "    <tr style=\"text-align: right;\">\n",
       "      <th>year</th>\n",
       "      <th>name</th>\n",
       "      <th>2019</th>\n",
       "      <th>2020</th>\n",
       "      <th>2021</th>\n",
       "    </tr>\n",
       "    <tr>\n",
       "      <th>gender</th>\n",
       "      <th></th>\n",
       "      <th></th>\n",
       "      <th></th>\n",
       "      <th></th>\n",
       "    </tr>\n",
       "  </thead>\n",
       "  <tbody>\n",
       "    <tr>\n",
       "      <th>F</th>\n",
       "      <td>Olivia</td>\n",
       "      <td>255</td>\n",
       "      <td>212</td>\n",
       "      <td>263</td>\n",
       "    </tr>\n",
       "    <tr>\n",
       "      <th>F</th>\n",
       "      <td>Ava</td>\n",
       "      <td>236</td>\n",
       "      <td>261</td>\n",
       "      <td>218</td>\n",
       "    </tr>\n",
       "    <tr>\n",
       "      <th>F</th>\n",
       "      <td>Amelia</td>\n",
       "      <td>208</td>\n",
       "      <td>225</td>\n",
       "      <td>202</td>\n",
       "    </tr>\n",
       "    <tr>\n",
       "      <th>F</th>\n",
       "      <td>Emma</td>\n",
       "      <td>200</td>\n",
       "      <td>190</td>\n",
       "      <td>165</td>\n",
       "    </tr>\n",
       "    <tr>\n",
       "      <th>F</th>\n",
       "      <td>Harper</td>\n",
       "      <td>173</td>\n",
       "      <td>&lt;NA&gt;</td>\n",
       "      <td>&lt;NA&gt;</td>\n",
       "    </tr>\n",
       "    <tr>\n",
       "      <th>F</th>\n",
       "      <td>Charlotte</td>\n",
       "      <td>&lt;NA&gt;</td>\n",
       "      <td>153</td>\n",
       "      <td>179</td>\n",
       "    </tr>\n",
       "    <tr>\n",
       "      <th>M</th>\n",
       "      <td>Noah</td>\n",
       "      <td>290</td>\n",
       "      <td>218</td>\n",
       "      <td>241</td>\n",
       "    </tr>\n",
       "    <tr>\n",
       "      <th>M</th>\n",
       "      <td>Elijah</td>\n",
       "      <td>284</td>\n",
       "      <td>237</td>\n",
       "      <td>220</td>\n",
       "    </tr>\n",
       "    <tr>\n",
       "      <th>M</th>\n",
       "      <td>Liam</td>\n",
       "      <td>283</td>\n",
       "      <td>251</td>\n",
       "      <td>261</td>\n",
       "    </tr>\n",
       "    <tr>\n",
       "      <th>M</th>\n",
       "      <td>James</td>\n",
       "      <td>209</td>\n",
       "      <td>&lt;NA&gt;</td>\n",
       "      <td>204</td>\n",
       "    </tr>\n",
       "    <tr>\n",
       "      <th>M</th>\n",
       "      <td>William</td>\n",
       "      <td>191</td>\n",
       "      <td>182</td>\n",
       "      <td>182</td>\n",
       "    </tr>\n",
       "    <tr>\n",
       "      <th>M</th>\n",
       "      <td>John</td>\n",
       "      <td>&lt;NA&gt;</td>\n",
       "      <td>182</td>\n",
       "      <td>&lt;NA&gt;</td>\n",
       "    </tr>\n",
       "  </tbody>\n",
       "</table>\n",
       "</div>"
      ],
      "text/plain": [
       "year         name  2019  2020  2021\n",
       "gender                             \n",
       "F          Olivia   255   212   263\n",
       "F             Ava   236   261   218\n",
       "F          Amelia   208   225   202\n",
       "F            Emma   200   190   165\n",
       "F          Harper   173  <NA>  <NA>\n",
       "F       Charlotte  <NA>   153   179\n",
       "M            Noah   290   218   241\n",
       "M          Elijah   284   237   220\n",
       "M            Liam   283   251   261\n",
       "M           James   209  <NA>   204\n",
       "M         William   191   182   182\n",
       "M            John  <NA>   182  <NA>"
      ]
     },
     "execution_count": 9,
     "metadata": {},
     "output_type": "execute_result"
    }
   ],
   "source": [
    "largest = largest.unstack('year').reset_index(level=1)\n",
    "largest"
   ]
  },
  {
   "cell_type": "markdown",
   "metadata": {},
   "source": [
    "#### Separate girls & boys names into different dataframes"
   ]
  },
  {
   "cell_type": "code",
   "execution_count": 10,
   "metadata": {},
   "outputs": [
    {
     "name": "stdout",
     "output_type": "stream",
     "text": [
      "      name  2019  2020  2021\n",
      "0     Noah   290   218   241\n",
      "1   Elijah   284   237   220\n",
      "2     Liam   283   251   261\n",
      "3    James   209  <NA>   204\n",
      "4  William   191   182   182\n",
      "5     John  <NA>   182  <NA>\n"
     ]
    }
   ],
   "source": [
    "girls = largest.loc[\"F\"].reset_index(drop=True) \n",
    "girls.columns.rename(\"\", inplace=True) #remove the \"year\" label on the columns list.  It's confusing to look at.\n",
    "boys = largest.loc[\"M\"].reset_index(drop=True)\n",
    "boys.columns.rename(\"\", inplace=True)\n",
    "\n",
    "print(boys)\n"
   ]
  },
  {
   "cell_type": "markdown",
   "metadata": {},
   "source": [
    "#### Make the plots"
   ]
  },
  {
   "cell_type": "code",
   "execution_count": 11,
   "metadata": {},
   "outputs": [],
   "source": [
    "import matplotlib.pyplot as plt\n",
    "from pandas.plotting import parallel_coordinates"
   ]
  },
  {
   "cell_type": "code",
   "execution_count": 12,
   "metadata": {},
   "outputs": [
    {
     "data": {
      "text/plain": [
       "Text(0.5, 1.0, \"Boys' names\")"
      ]
     },
     "execution_count": 12,
     "metadata": {},
     "output_type": "execute_result"
    },
    {
     "data": {
      "image/png": "[encoded data removed]",
      "text/plain": [
       "<Figure size 1200x600 with 2 Axes>"
      ]
     },
     "metadata": {},
     "output_type": "display_data"
    }
   ],
   "source": [
    "fig, ax = plt.subplots(1, 2, figsize=(12, 6))\n",
    "parallel_coordinates(girls, \"name\", ax=ax[0])\n",
    "ax[0].set_title(\"Girls' names\")\n",
    "parallel_coordinates(boys, \"name\", ax=ax[1])\n",
    "ax[1].set_title(\"Boys' names\")"
   ]
  },
  {
   "cell_type": "markdown",
   "metadata": {},
   "source": [
    "Can you tell I'm still a novice at `matplotlib`? 🤣"
   ]
  },
  {
   "cell_type": "markdown",
   "metadata": {},
   "source": [
    "## Unisex names: What were the most popular unisex names in those 3 years?"
   ]
  },
  {
   "cell_type": "markdown",
   "metadata": {},
   "source": [
    "### Ignore year: Sum all years for gender, name"
   ]
  },
  {
   "cell_type": "code",
   "execution_count": 13,
   "metadata": {},
   "outputs": [
    {
     "data": {
      "text/html": [
       "<div>\n",
       "<style scoped>\n",
       "    .dataframe tbody tr th:only-of-type {\n",
       "        vertical-align: middle;\n",
       "    }\n",
       "\n",
       "    .dataframe tbody tr th {\n",
       "        vertical-align: top;\n",
       "    }\n",
       "\n",
       "    .dataframe thead th {\n",
       "        text-align: right;\n",
       "    }\n",
       "</style>\n",
       "<table border=\"1\" class=\"dataframe\">\n",
       "  <thead>\n",
       "    <tr style=\"text-align: right;\">\n",
       "      <th></th>\n",
       "      <th>gender</th>\n",
       "      <th>name</th>\n",
       "      <th>number</th>\n",
       "    </tr>\n",
       "  </thead>\n",
       "  <tbody>\n",
       "    <tr>\n",
       "      <th>0</th>\n",
       "      <td>F</td>\n",
       "      <td>Aaliyah</td>\n",
       "      <td>141</td>\n",
       "    </tr>\n",
       "    <tr>\n",
       "      <th>1</th>\n",
       "      <td>F</td>\n",
       "      <td>Abbigail</td>\n",
       "      <td>5</td>\n",
       "    </tr>\n",
       "    <tr>\n",
       "      <th>2</th>\n",
       "      <td>F</td>\n",
       "      <td>Abby</td>\n",
       "      <td>23</td>\n",
       "    </tr>\n",
       "    <tr>\n",
       "      <th>3</th>\n",
       "      <td>F</td>\n",
       "      <td>Abigail</td>\n",
       "      <td>282</td>\n",
       "    </tr>\n",
       "    <tr>\n",
       "      <th>4</th>\n",
       "      <td>F</td>\n",
       "      <td>Abril</td>\n",
       "      <td>5</td>\n",
       "    </tr>\n",
       "  </tbody>\n",
       "</table>\n",
       "</div>"
      ],
      "text/plain": [
       "  gender      name  number\n",
       "0      F   Aaliyah     141\n",
       "1      F  Abbigail       5\n",
       "2      F      Abby      23\n",
       "3      F   Abigail     282\n",
       "4      F     Abril       5"
      ]
     },
     "execution_count": 13,
     "metadata": {},
     "output_type": "execute_result"
    }
   ],
   "source": [
    "all_years = la_recent_names.groupby(['gender', 'name'])['number'].sum().reset_index()\n",
    "all_years.head()\n"
   ]
  },
  {
   "cell_type": "markdown",
   "metadata": {},
   "source": [
    "### Identify unisex names as names that are duplicated in the table -- appearing for both genders"
   ]
  },
  {
   "cell_type": "markdown",
   "metadata": {},
   "source": [
    "Use the `.duplicated()` method to identify repeated values in `name` column.\n",
    "\n",
    "Counterintuitively, setting the `keep` aregument to `False` will mark duplicates as `True`. "
   ]
  },
  {
   "cell_type": "code",
   "execution_count": 14,
   "metadata": {},
   "outputs": [
    {
     "data": {
      "text/html": [
       "<div>\n",
       "<style scoped>\n",
       "    .dataframe tbody tr th:only-of-type {\n",
       "        vertical-align: middle;\n",
       "    }\n",
       "\n",
       "    .dataframe tbody tr th {\n",
       "        vertical-align: top;\n",
       "    }\n",
       "\n",
       "    .dataframe thead th {\n",
       "        text-align: right;\n",
       "    }\n",
       "</style>\n",
       "<table border=\"1\" class=\"dataframe\">\n",
       "  <thead>\n",
       "    <tr style=\"text-align: right;\">\n",
       "      <th></th>\n",
       "      <th>gender</th>\n",
       "      <th>name</th>\n",
       "      <th>number</th>\n",
       "      <th>unisex</th>\n",
       "    </tr>\n",
       "  </thead>\n",
       "  <tbody>\n",
       "    <tr>\n",
       "      <th>56</th>\n",
       "      <td>F</td>\n",
       "      <td>Alex</td>\n",
       "      <td>13</td>\n",
       "      <td>True</td>\n",
       "    </tr>\n",
       "    <tr>\n",
       "      <th>1347</th>\n",
       "      <td>M</td>\n",
       "      <td>Alex</td>\n",
       "      <td>93</td>\n",
       "      <td>True</td>\n",
       "    </tr>\n",
       "    <tr>\n",
       "      <th>1349</th>\n",
       "      <td>M</td>\n",
       "      <td>Alexis</td>\n",
       "      <td>7</td>\n",
       "      <td>True</td>\n",
       "    </tr>\n",
       "    <tr>\n",
       "      <th>59</th>\n",
       "      <td>F</td>\n",
       "      <td>Alexis</td>\n",
       "      <td>41</td>\n",
       "      <td>True</td>\n",
       "    </tr>\n",
       "    <tr>\n",
       "      <th>60</th>\n",
       "      <td>F</td>\n",
       "      <td>Ali</td>\n",
       "      <td>5</td>\n",
       "      <td>True</td>\n",
       "    </tr>\n",
       "    <tr>\n",
       "      <th>1351</th>\n",
       "      <td>M</td>\n",
       "      <td>Ali</td>\n",
       "      <td>38</td>\n",
       "      <td>True</td>\n",
       "    </tr>\n",
       "    <tr>\n",
       "      <th>80</th>\n",
       "      <td>F</td>\n",
       "      <td>Amari</td>\n",
       "      <td>119</td>\n",
       "      <td>True</td>\n",
       "    </tr>\n",
       "    <tr>\n",
       "      <th>1357</th>\n",
       "      <td>M</td>\n",
       "      <td>Amari</td>\n",
       "      <td>74</td>\n",
       "      <td>True</td>\n",
       "    </tr>\n",
       "    <tr>\n",
       "      <th>92</th>\n",
       "      <td>F</td>\n",
       "      <td>Amiri</td>\n",
       "      <td>8</td>\n",
       "      <td>True</td>\n",
       "    </tr>\n",
       "    <tr>\n",
       "      <th>1359</th>\n",
       "      <td>M</td>\n",
       "      <td>Amiri</td>\n",
       "      <td>8</td>\n",
       "      <td>True</td>\n",
       "    </tr>\n",
       "  </tbody>\n",
       "</table>\n",
       "</div>"
      ],
      "text/plain": [
       "     gender    name  number  unisex\n",
       "56        F    Alex      13    True\n",
       "1347      M    Alex      93    True\n",
       "1349      M  Alexis       7    True\n",
       "59        F  Alexis      41    True\n",
       "60        F     Ali       5    True\n",
       "1351      M     Ali      38    True\n",
       "80        F   Amari     119    True\n",
       "1357      M   Amari      74    True\n",
       "92        F   Amiri       8    True\n",
       "1359      M   Amiri       8    True"
      ]
     },
     "execution_count": 14,
     "metadata": {},
     "output_type": "execute_result"
    }
   ],
   "source": [
    "all_years['unisex'] = all_years.duplicated(subset='name', keep=False)\n",
    "unisex = all_years[all_years.unisex].copy() \n",
    "unisex.sort_values('name', inplace=True)\n",
    "unisex.head(10)\n"
   ]
  },
  {
   "cell_type": "markdown",
   "metadata": {},
   "source": [
    "### Reshape and total, by different methods than above"
   ]
  },
  {
   "cell_type": "markdown",
   "metadata": {},
   "source": [
    "#### Reshape with `.pivot()` → Don't have to move columns to the index"
   ]
  },
  {
   "cell_type": "code",
   "execution_count": 15,
   "metadata": {},
   "outputs": [
    {
     "data": {
      "text/html": [
       "<div>\n",
       "<style scoped>\n",
       "    .dataframe tbody tr th:only-of-type {\n",
       "        vertical-align: middle;\n",
       "    }\n",
       "\n",
       "    .dataframe tbody tr th {\n",
       "        vertical-align: top;\n",
       "    }\n",
       "\n",
       "    .dataframe thead th {\n",
       "        text-align: right;\n",
       "    }\n",
       "</style>\n",
       "<table border=\"1\" class=\"dataframe\">\n",
       "  <thead>\n",
       "    <tr style=\"text-align: right;\">\n",
       "      <th>gender</th>\n",
       "      <th>F</th>\n",
       "      <th>M</th>\n",
       "    </tr>\n",
       "    <tr>\n",
       "      <th>name</th>\n",
       "      <th></th>\n",
       "      <th></th>\n",
       "    </tr>\n",
       "  </thead>\n",
       "  <tbody>\n",
       "    <tr>\n",
       "      <th>Alex</th>\n",
       "      <td>13</td>\n",
       "      <td>93</td>\n",
       "    </tr>\n",
       "    <tr>\n",
       "      <th>Alexis</th>\n",
       "      <td>41</td>\n",
       "      <td>7</td>\n",
       "    </tr>\n",
       "    <tr>\n",
       "      <th>Ali</th>\n",
       "      <td>5</td>\n",
       "      <td>38</td>\n",
       "    </tr>\n",
       "    <tr>\n",
       "      <th>Amari</th>\n",
       "      <td>119</td>\n",
       "      <td>74</td>\n",
       "    </tr>\n",
       "    <tr>\n",
       "      <th>Amiri</th>\n",
       "      <td>8</td>\n",
       "      <td>8</td>\n",
       "    </tr>\n",
       "  </tbody>\n",
       "</table>\n",
       "</div>"
      ],
      "text/plain": [
       "gender    F   M\n",
       "name           \n",
       "Alex     13  93\n",
       "Alexis   41   7\n",
       "Ali       5  38\n",
       "Amari   119  74\n",
       "Amiri     8   8"
      ]
     },
     "execution_count": 15,
     "metadata": {},
     "output_type": "execute_result"
    }
   ],
   "source": [
    "unisex_wide = unisex[['gender', 'name', 'number']].pivot(columns='gender', index='name', values='number')\n",
    "unisex_wide.head()"
   ]
  },
  {
   "cell_type": "markdown",
   "metadata": {},
   "source": [
    "#### Total by adding the columns instead of using `groupby()`"
   ]
  },
  {
   "cell_type": "code",
   "execution_count": 16,
   "metadata": {},
   "outputs": [
    {
     "data": {
      "text/html": [
       "<div>\n",
       "<style scoped>\n",
       "    .dataframe tbody tr th:only-of-type {\n",
       "        vertical-align: middle;\n",
       "    }\n",
       "\n",
       "    .dataframe tbody tr th {\n",
       "        vertical-align: top;\n",
       "    }\n",
       "\n",
       "    .dataframe thead th {\n",
       "        text-align: right;\n",
       "    }\n",
       "</style>\n",
       "<table border=\"1\" class=\"dataframe\">\n",
       "  <thead>\n",
       "    <tr style=\"text-align: right;\">\n",
       "      <th>gender</th>\n",
       "      <th>F</th>\n",
       "      <th>M</th>\n",
       "      <th>total</th>\n",
       "    </tr>\n",
       "    <tr>\n",
       "      <th>name</th>\n",
       "      <th></th>\n",
       "      <th></th>\n",
       "      <th></th>\n",
       "    </tr>\n",
       "  </thead>\n",
       "  <tbody>\n",
       "    <tr>\n",
       "      <th>Alex</th>\n",
       "      <td>13</td>\n",
       "      <td>93</td>\n",
       "      <td>106</td>\n",
       "    </tr>\n",
       "    <tr>\n",
       "      <th>Alexis</th>\n",
       "      <td>41</td>\n",
       "      <td>7</td>\n",
       "      <td>48</td>\n",
       "    </tr>\n",
       "    <tr>\n",
       "      <th>Ali</th>\n",
       "      <td>5</td>\n",
       "      <td>38</td>\n",
       "      <td>43</td>\n",
       "    </tr>\n",
       "    <tr>\n",
       "      <th>Amari</th>\n",
       "      <td>119</td>\n",
       "      <td>74</td>\n",
       "      <td>193</td>\n",
       "    </tr>\n",
       "    <tr>\n",
       "      <th>Amiri</th>\n",
       "      <td>8</td>\n",
       "      <td>8</td>\n",
       "      <td>16</td>\n",
       "    </tr>\n",
       "  </tbody>\n",
       "</table>\n",
       "</div>"
      ],
      "text/plain": [
       "gender    F   M  total\n",
       "name                  \n",
       "Alex     13  93    106\n",
       "Alexis   41   7     48\n",
       "Ali       5  38     43\n",
       "Amari   119  74    193\n",
       "Amiri     8   8     16"
      ]
     },
     "execution_count": 16,
     "metadata": {},
     "output_type": "execute_result"
    }
   ],
   "source": [
    "unisex_wide['total'] = unisex_wide['F'] + unisex_wide['M']\n",
    "unisex_wide.head()\n"
   ]
  },
  {
   "cell_type": "markdown",
   "metadata": {},
   "source": [
    "#### Sort the list in order of popularity"
   ]
  },
  {
   "cell_type": "code",
   "execution_count": 17,
   "metadata": {},
   "outputs": [
    {
     "data": {
      "text/html": [
       "<div>\n",
       "<style scoped>\n",
       "    .dataframe tbody tr th:only-of-type {\n",
       "        vertical-align: middle;\n",
       "    }\n",
       "\n",
       "    .dataframe tbody tr th {\n",
       "        vertical-align: top;\n",
       "    }\n",
       "\n",
       "    .dataframe thead th {\n",
       "        text-align: right;\n",
       "    }\n",
       "</style>\n",
       "<table border=\"1\" class=\"dataframe\">\n",
       "  <thead>\n",
       "    <tr style=\"text-align: right;\">\n",
       "      <th>gender</th>\n",
       "      <th>F</th>\n",
       "      <th>M</th>\n",
       "      <th>total</th>\n",
       "    </tr>\n",
       "    <tr>\n",
       "      <th>name</th>\n",
       "      <th></th>\n",
       "      <th></th>\n",
       "      <th></th>\n",
       "    </tr>\n",
       "  </thead>\n",
       "  <tbody>\n",
       "    <tr>\n",
       "      <th>Noah</th>\n",
       "      <td>32</td>\n",
       "      <td>749</td>\n",
       "      <td>781</td>\n",
       "    </tr>\n",
       "    <tr>\n",
       "      <th>Harper</th>\n",
       "      <td>460</td>\n",
       "      <td>14</td>\n",
       "      <td>474</td>\n",
       "    </tr>\n",
       "    <tr>\n",
       "      <th>Avery</th>\n",
       "      <td>348</td>\n",
       "      <td>100</td>\n",
       "      <td>448</td>\n",
       "    </tr>\n",
       "    <tr>\n",
       "      <th>Carter</th>\n",
       "      <td>25</td>\n",
       "      <td>415</td>\n",
       "      <td>440</td>\n",
       "    </tr>\n",
       "    <tr>\n",
       "      <th>Asher</th>\n",
       "      <td>5</td>\n",
       "      <td>391</td>\n",
       "      <td>396</td>\n",
       "    </tr>\n",
       "  </tbody>\n",
       "</table>\n",
       "</div>"
      ],
      "text/plain": [
       "gender    F    M  total\n",
       "name                   \n",
       "Noah     32  749    781\n",
       "Harper  460   14    474\n",
       "Avery   348  100    448\n",
       "Carter   25  415    440\n",
       "Asher     5  391    396"
      ]
     },
     "execution_count": 17,
     "metadata": {},
     "output_type": "execute_result"
    }
   ],
   "source": [
    "unisex_wide.sort_values('total', ascending=False, inplace=True)\n",
    "unisex_wide.head()\n"
   ]
  },
  {
   "cell_type": "markdown",
   "metadata": {},
   "source": [
    "We can see that some of the names are still heavily assigned to one gender or another."
   ]
  },
  {
   "cell_type": "markdown",
   "metadata": {},
   "source": [
    "#### Which names are most evenly divided?\n",
    "\n",
    "An even split will have each gender proportion close to 0.5 (50%)"
   ]
  },
  {
   "cell_type": "code",
   "execution_count": 18,
   "metadata": {},
   "outputs": [
    {
     "data": {
      "text/html": [
       "<div>\n",
       "<style scoped>\n",
       "    .dataframe tbody tr th:only-of-type {\n",
       "        vertical-align: middle;\n",
       "    }\n",
       "\n",
       "    .dataframe tbody tr th {\n",
       "        vertical-align: top;\n",
       "    }\n",
       "\n",
       "    .dataframe thead th {\n",
       "        text-align: right;\n",
       "    }\n",
       "</style>\n",
       "<table border=\"1\" class=\"dataframe\">\n",
       "  <thead>\n",
       "    <tr style=\"text-align: right;\">\n",
       "      <th>gender</th>\n",
       "      <th>F</th>\n",
       "      <th>M</th>\n",
       "      <th>total</th>\n",
       "      <th>f_pct</th>\n",
       "      <th>Δ from 0.5</th>\n",
       "    </tr>\n",
       "    <tr>\n",
       "      <th>name</th>\n",
       "      <th></th>\n",
       "      <th></th>\n",
       "      <th></th>\n",
       "      <th></th>\n",
       "      <th></th>\n",
       "    </tr>\n",
       "  </thead>\n",
       "  <tbody>\n",
       "    <tr>\n",
       "      <th>Noah</th>\n",
       "      <td>32</td>\n",
       "      <td>749</td>\n",
       "      <td>781</td>\n",
       "      <td>0.040973</td>\n",
       "      <td>0.459027</td>\n",
       "    </tr>\n",
       "    <tr>\n",
       "      <th>Harper</th>\n",
       "      <td>460</td>\n",
       "      <td>14</td>\n",
       "      <td>474</td>\n",
       "      <td>0.970464</td>\n",
       "      <td>0.470464</td>\n",
       "    </tr>\n",
       "    <tr>\n",
       "      <th>Avery</th>\n",
       "      <td>348</td>\n",
       "      <td>100</td>\n",
       "      <td>448</td>\n",
       "      <td>0.776786</td>\n",
       "      <td>0.276786</td>\n",
       "    </tr>\n",
       "    <tr>\n",
       "      <th>Carter</th>\n",
       "      <td>25</td>\n",
       "      <td>415</td>\n",
       "      <td>440</td>\n",
       "      <td>0.056818</td>\n",
       "      <td>0.443182</td>\n",
       "    </tr>\n",
       "    <tr>\n",
       "      <th>Asher</th>\n",
       "      <td>5</td>\n",
       "      <td>391</td>\n",
       "      <td>396</td>\n",
       "      <td>0.012626</td>\n",
       "      <td>0.487374</td>\n",
       "    </tr>\n",
       "  </tbody>\n",
       "</table>\n",
       "</div>"
      ],
      "text/plain": [
       "gender    F    M  total     f_pct  Δ from 0.5\n",
       "name                                         \n",
       "Noah     32  749    781  0.040973    0.459027\n",
       "Harper  460   14    474  0.970464    0.470464\n",
       "Avery   348  100    448  0.776786    0.276786\n",
       "Carter   25  415    440  0.056818    0.443182\n",
       "Asher     5  391    396  0.012626    0.487374"
      ]
     },
     "execution_count": 18,
     "metadata": {},
     "output_type": "execute_result"
    }
   ],
   "source": [
    "unisex_wide['f_pct'] = unisex_wide['F'] / unisex_wide['total']\n",
    "unisex_wide['Δ from 0.5'] = (unisex_wide['f_pct'] - 0.5).abs()\n",
    "unisex_wide.head()"
   ]
  },
  {
   "cell_type": "code",
   "execution_count": 19,
   "metadata": {},
   "outputs": [
    {
     "data": {
      "text/html": [
       "<div>\n",
       "<style scoped>\n",
       "    .dataframe tbody tr th:only-of-type {\n",
       "        vertical-align: middle;\n",
       "    }\n",
       "\n",
       "    .dataframe tbody tr th {\n",
       "        vertical-align: top;\n",
       "    }\n",
       "\n",
       "    .dataframe thead th {\n",
       "        text-align: right;\n",
       "    }\n",
       "</style>\n",
       "<table border=\"1\" class=\"dataframe\">\n",
       "  <thead>\n",
       "    <tr style=\"text-align: right;\">\n",
       "      <th>gender</th>\n",
       "      <th>F</th>\n",
       "      <th>M</th>\n",
       "      <th>total</th>\n",
       "      <th>f_pct</th>\n",
       "      <th>Δ from 0.5</th>\n",
       "    </tr>\n",
       "    <tr>\n",
       "      <th>name</th>\n",
       "      <th></th>\n",
       "      <th></th>\n",
       "      <th></th>\n",
       "      <th></th>\n",
       "      <th></th>\n",
       "    </tr>\n",
       "  </thead>\n",
       "  <tbody>\n",
       "    <tr>\n",
       "      <th>Finnley</th>\n",
       "      <td>5</td>\n",
       "      <td>5</td>\n",
       "      <td>10</td>\n",
       "      <td>0.5</td>\n",
       "      <td>0.0</td>\n",
       "    </tr>\n",
       "    <tr>\n",
       "      <th>Kasey</th>\n",
       "      <td>5</td>\n",
       "      <td>5</td>\n",
       "      <td>10</td>\n",
       "      <td>0.5</td>\n",
       "      <td>0.0</td>\n",
       "    </tr>\n",
       "    <tr>\n",
       "      <th>Whitney</th>\n",
       "      <td>5</td>\n",
       "      <td>5</td>\n",
       "      <td>10</td>\n",
       "      <td>0.5</td>\n",
       "      <td>0.0</td>\n",
       "    </tr>\n",
       "    <tr>\n",
       "      <th>Amiri</th>\n",
       "      <td>8</td>\n",
       "      <td>8</td>\n",
       "      <td>16</td>\n",
       "      <td>0.5</td>\n",
       "      <td>0.0</td>\n",
       "    </tr>\n",
       "    <tr>\n",
       "      <th>Tatum</th>\n",
       "      <td>55</td>\n",
       "      <td>57</td>\n",
       "      <td>112</td>\n",
       "      <td>0.491071</td>\n",
       "      <td>0.008929</td>\n",
       "    </tr>\n",
       "    <tr>\n",
       "      <th>...</th>\n",
       "      <td>...</td>\n",
       "      <td>...</td>\n",
       "      <td>...</td>\n",
       "      <td>...</td>\n",
       "      <td>...</td>\n",
       "    </tr>\n",
       "    <tr>\n",
       "      <th>Christian</th>\n",
       "      <td>6</td>\n",
       "      <td>271</td>\n",
       "      <td>277</td>\n",
       "      <td>0.021661</td>\n",
       "      <td>0.478339</td>\n",
       "    </tr>\n",
       "    <tr>\n",
       "      <th>Jayden</th>\n",
       "      <td>6</td>\n",
       "      <td>298</td>\n",
       "      <td>304</td>\n",
       "      <td>0.019737</td>\n",
       "      <td>0.480263</td>\n",
       "    </tr>\n",
       "    <tr>\n",
       "      <th>Lincoln</th>\n",
       "      <td>5</td>\n",
       "      <td>258</td>\n",
       "      <td>263</td>\n",
       "      <td>0.019011</td>\n",
       "      <td>0.480989</td>\n",
       "    </tr>\n",
       "    <tr>\n",
       "      <th>Cooper</th>\n",
       "      <td>5</td>\n",
       "      <td>264</td>\n",
       "      <td>269</td>\n",
       "      <td>0.018587</td>\n",
       "      <td>0.481413</td>\n",
       "    </tr>\n",
       "    <tr>\n",
       "      <th>Asher</th>\n",
       "      <td>5</td>\n",
       "      <td>391</td>\n",
       "      <td>396</td>\n",
       "      <td>0.012626</td>\n",
       "      <td>0.487374</td>\n",
       "    </tr>\n",
       "  </tbody>\n",
       "</table>\n",
       "<p>156 rows × 5 columns</p>\n",
       "</div>"
      ],
      "text/plain": [
       "gender      F    M  total     f_pct  Δ from 0.5\n",
       "name                                           \n",
       "Finnley     5    5     10       0.5         0.0\n",
       "Kasey       5    5     10       0.5         0.0\n",
       "Whitney     5    5     10       0.5         0.0\n",
       "Amiri       8    8     16       0.5         0.0\n",
       "Tatum      55   57    112  0.491071    0.008929\n",
       "...        ..  ...    ...       ...         ...\n",
       "Christian   6  271    277  0.021661    0.478339\n",
       "Jayden      6  298    304  0.019737    0.480263\n",
       "Lincoln     5  258    263  0.019011    0.480989\n",
       "Cooper      5  264    269  0.018587    0.481413\n",
       "Asher       5  391    396  0.012626    0.487374\n",
       "\n",
       "[156 rows x 5 columns]"
      ]
     },
     "execution_count": 19,
     "metadata": {},
     "output_type": "execute_result"
    }
   ],
   "source": [
    "unisex_wide.sort_values('Δ from 0.5', inplace=True)\n",
    "unisex_wide"
   ]
  },
  {
   "cell_type": "markdown",
   "metadata": {},
   "source": [
    "Some of the even split names are infrequent (N = 10)"
   ]
  },
  {
   "cell_type": "markdown",
   "metadata": {},
   "source": [
    "#### Which names are both popular and close to evenly split?\n",
    "\n",
    "##### How to define \"popular\" in terms of the data?"
   ]
  },
  {
   "cell_type": "code",
   "execution_count": 20,
   "metadata": {},
   "outputs": [
    {
     "data": {
      "text/plain": [
       "count         156.0\n",
       "mean          127.0\n",
       "std      111.201938\n",
       "min            10.0\n",
       "25%           51.75\n",
       "50%            96.5\n",
       "75%           170.0\n",
       "max           781.0\n",
       "Name: total, dtype: Float64"
      ]
     },
     "execution_count": 20,
     "metadata": {},
     "output_type": "execute_result"
    }
   ],
   "source": [
    "unisex_wide['total'].describe()"
   ]
  },
  {
   "cell_type": "code",
   "execution_count": 21,
   "metadata": {},
   "outputs": [
    {
     "name": "stdout",
     "output_type": "stream",
     "text": [
      "[  9.229  87.1   164.2   241.3   318.4   395.5   472.6   549.7   626.8\n",
      " 703.9   781.   ]\n"
     ]
    },
    {
     "data": {
      "image/png": "[encoded data removed]",
      "text/plain": [
       "<Figure size 640x480 with 1 Axes>"
      ]
     },
     "metadata": {},
     "output_type": "display_data"
    }
   ],
   "source": [
    "\n",
    "unisex_wide.hist('total', bins=10)\n",
    "\n",
    "# Use pd.cut() to determine bin values.\n",
    "# first sort the data so that the list returned from .cut() will be in the right order  \n",
    "unisex_wide.sort_values('total') \n",
    "bins = pd.cut(unisex_wide['total'], bins=10, retbins=True)\n",
    "\n",
    "print(bins[1])"
   ]
  },
  {
   "cell_type": "markdown",
   "metadata": {},
   "source": [
    "What is this bin between 700 nand 800?"
   ]
  },
  {
   "cell_type": "code",
   "execution_count": 22,
   "metadata": {},
   "outputs": [
    {
     "data": {
      "text/html": [
       "<div>\n",
       "<style scoped>\n",
       "    .dataframe tbody tr th:only-of-type {\n",
       "        vertical-align: middle;\n",
       "    }\n",
       "\n",
       "    .dataframe tbody tr th {\n",
       "        vertical-align: top;\n",
       "    }\n",
       "\n",
       "    .dataframe thead th {\n",
       "        text-align: right;\n",
       "    }\n",
       "</style>\n",
       "<table border=\"1\" class=\"dataframe\">\n",
       "  <thead>\n",
       "    <tr style=\"text-align: right;\">\n",
       "      <th>gender</th>\n",
       "      <th>F</th>\n",
       "      <th>M</th>\n",
       "      <th>total</th>\n",
       "      <th>f_pct</th>\n",
       "      <th>Δ from 0.5</th>\n",
       "    </tr>\n",
       "    <tr>\n",
       "      <th>name</th>\n",
       "      <th></th>\n",
       "      <th></th>\n",
       "      <th></th>\n",
       "      <th></th>\n",
       "      <th></th>\n",
       "    </tr>\n",
       "  </thead>\n",
       "  <tbody>\n",
       "    <tr>\n",
       "      <th>Noah</th>\n",
       "      <td>32</td>\n",
       "      <td>749</td>\n",
       "      <td>781</td>\n",
       "      <td>0.040973</td>\n",
       "      <td>0.459027</td>\n",
       "    </tr>\n",
       "  </tbody>\n",
       "</table>\n",
       "</div>"
      ],
      "text/plain": [
       "gender   F    M  total     f_pct  Δ from 0.5\n",
       "name                                        \n",
       "Noah    32  749    781  0.040973    0.459027"
      ]
     },
     "execution_count": 22,
     "metadata": {},
     "output_type": "execute_result"
    }
   ],
   "source": [
    "unisex_wide[unisex_wide.total > 700]"
   ]
  },
  {
   "cell_type": "markdown",
   "metadata": {},
   "source": [
    "⬆️ \"Noah\" assigned 781 times.  Noah, you're pulling my average out of whack :("
   ]
  },
  {
   "cell_type": "markdown",
   "metadata": {},
   "source": [
    "Define 'popular' as top 50% of total assignments"
   ]
  },
  {
   "cell_type": "code",
   "execution_count": 23,
   "metadata": {},
   "outputs": [
    {
     "data": {
      "text/html": [
       "<div>\n",
       "<style scoped>\n",
       "    .dataframe tbody tr th:only-of-type {\n",
       "        vertical-align: middle;\n",
       "    }\n",
       "\n",
       "    .dataframe tbody tr th {\n",
       "        vertical-align: top;\n",
       "    }\n",
       "\n",
       "    .dataframe thead th {\n",
       "        text-align: right;\n",
       "    }\n",
       "</style>\n",
       "<table border=\"1\" class=\"dataframe\">\n",
       "  <thead>\n",
       "    <tr style=\"text-align: right;\">\n",
       "      <th>gender</th>\n",
       "      <th>F</th>\n",
       "      <th>M</th>\n",
       "      <th>total</th>\n",
       "      <th>f_pct</th>\n",
       "      <th>Δ from 0.5</th>\n",
       "      <th>popular</th>\n",
       "    </tr>\n",
       "    <tr>\n",
       "      <th>name</th>\n",
       "      <th></th>\n",
       "      <th></th>\n",
       "      <th></th>\n",
       "      <th></th>\n",
       "      <th></th>\n",
       "      <th></th>\n",
       "    </tr>\n",
       "  </thead>\n",
       "  <tbody>\n",
       "    <tr>\n",
       "      <th>Cohen</th>\n",
       "      <td>5</td>\n",
       "      <td>163</td>\n",
       "      <td>168</td>\n",
       "      <td>0.029762</td>\n",
       "      <td>0.470238</td>\n",
       "      <td>True</td>\n",
       "    </tr>\n",
       "    <tr>\n",
       "      <th>Jayden</th>\n",
       "      <td>6</td>\n",
       "      <td>298</td>\n",
       "      <td>304</td>\n",
       "      <td>0.019737</td>\n",
       "      <td>0.480263</td>\n",
       "      <td>True</td>\n",
       "    </tr>\n",
       "    <tr>\n",
       "      <th>Alex</th>\n",
       "      <td>13</td>\n",
       "      <td>93</td>\n",
       "      <td>106</td>\n",
       "      <td>0.122642</td>\n",
       "      <td>0.377358</td>\n",
       "      <td>True</td>\n",
       "    </tr>\n",
       "    <tr>\n",
       "      <th>Ivory</th>\n",
       "      <td>29</td>\n",
       "      <td>6</td>\n",
       "      <td>35</td>\n",
       "      <td>0.828571</td>\n",
       "      <td>0.328571</td>\n",
       "      <td>False</td>\n",
       "    </tr>\n",
       "    <tr>\n",
       "      <th>Jessie</th>\n",
       "      <td>23</td>\n",
       "      <td>18</td>\n",
       "      <td>41</td>\n",
       "      <td>0.560976</td>\n",
       "      <td>0.060976</td>\n",
       "      <td>False</td>\n",
       "    </tr>\n",
       "    <tr>\n",
       "      <th>Tatum</th>\n",
       "      <td>55</td>\n",
       "      <td>57</td>\n",
       "      <td>112</td>\n",
       "      <td>0.491071</td>\n",
       "      <td>0.008929</td>\n",
       "      <td>True</td>\n",
       "    </tr>\n",
       "    <tr>\n",
       "      <th>Hollis</th>\n",
       "      <td>11</td>\n",
       "      <td>20</td>\n",
       "      <td>31</td>\n",
       "      <td>0.354839</td>\n",
       "      <td>0.145161</td>\n",
       "      <td>False</td>\n",
       "    </tr>\n",
       "  </tbody>\n",
       "</table>\n",
       "</div>"
      ],
      "text/plain": [
       "gender   F    M  total     f_pct  Δ from 0.5  popular\n",
       "name                                                 \n",
       "Cohen    5  163    168  0.029762    0.470238     True\n",
       "Jayden   6  298    304  0.019737    0.480263     True\n",
       "Alex    13   93    106  0.122642    0.377358     True\n",
       "Ivory   29    6     35  0.828571    0.328571    False\n",
       "Jessie  23   18     41  0.560976    0.060976    False\n",
       "Tatum   55   57    112  0.491071    0.008929     True\n",
       "Hollis  11   20     31  0.354839    0.145161    False"
      ]
     },
     "execution_count": 23,
     "metadata": {},
     "output_type": "execute_result"
    }
   ],
   "source": [
    "median = unisex_wide['total'].quantile() # ---> 96.5\n",
    "unisex_wide['popular'] = unisex_wide.total > median\n",
    "unisex_wide.sample(7)"
   ]
  },
  {
   "cell_type": "markdown",
   "metadata": {},
   "source": [
    "##### How to define \"evenly split\" in terms of the data\n",
    "\n",
    "Explore the evenness scores"
   ]
  },
  {
   "cell_type": "code",
   "execution_count": 24,
   "metadata": {},
   "outputs": [
    {
     "data": {
      "text/plain": [
       "array([[<Axes: title={'center': 'Δ from 0.5'}>]], dtype=object)"
      ]
     },
     "execution_count": 24,
     "metadata": {},
     "output_type": "execute_result"
    },
    {
     "data": {
      "image/png": "[encoded data removed]",
      "text/plain": [
       "<Figure size 640x480 with 1 Axes>"
      ]
     },
     "metadata": {},
     "output_type": "display_data"
    }
   ],
   "source": [
    "unisex_wide.hist('Δ from 0.5', bins = 5)"
   ]
  },
  {
   "cell_type": "markdown",
   "metadata": {},
   "source": [
    "Define 'evenly split' as in 0.5 ± 0.05 (45% - 55%)"
   ]
  },
  {
   "cell_type": "code",
   "execution_count": 27,
   "metadata": {},
   "outputs": [
    {
     "data": {
      "text/html": [
       "<div>\n",
       "<style scoped>\n",
       "    .dataframe tbody tr th:only-of-type {\n",
       "        vertical-align: middle;\n",
       "    }\n",
       "\n",
       "    .dataframe tbody tr th {\n",
       "        vertical-align: top;\n",
       "    }\n",
       "\n",
       "    .dataframe thead th {\n",
       "        text-align: right;\n",
       "    }\n",
       "</style>\n",
       "<table border=\"1\" class=\"dataframe\">\n",
       "  <thead>\n",
       "    <tr style=\"text-align: right;\">\n",
       "      <th>gender</th>\n",
       "      <th>F</th>\n",
       "      <th>M</th>\n",
       "      <th>total</th>\n",
       "      <th>f_pct</th>\n",
       "      <th>Δ from 0.5</th>\n",
       "      <th>popular</th>\n",
       "      <th>even</th>\n",
       "    </tr>\n",
       "    <tr>\n",
       "      <th>name</th>\n",
       "      <th></th>\n",
       "      <th></th>\n",
       "      <th></th>\n",
       "      <th></th>\n",
       "      <th></th>\n",
       "      <th></th>\n",
       "      <th></th>\n",
       "    </tr>\n",
       "  </thead>\n",
       "  <tbody>\n",
       "    <tr>\n",
       "      <th>Riley</th>\n",
       "      <td>242</td>\n",
       "      <td>81</td>\n",
       "      <td>323</td>\n",
       "      <td>0.749226</td>\n",
       "      <td>0.249226</td>\n",
       "      <td>True</td>\n",
       "      <td>False</td>\n",
       "    </tr>\n",
       "    <tr>\n",
       "      <th>Sawyer</th>\n",
       "      <td>78</td>\n",
       "      <td>207</td>\n",
       "      <td>285</td>\n",
       "      <td>0.273684</td>\n",
       "      <td>0.226316</td>\n",
       "      <td>True</td>\n",
       "      <td>False</td>\n",
       "    </tr>\n",
       "    <tr>\n",
       "      <th>Kacey</th>\n",
       "      <td>5</td>\n",
       "      <td>20</td>\n",
       "      <td>25</td>\n",
       "      <td>0.2</td>\n",
       "      <td>0.3</td>\n",
       "      <td>False</td>\n",
       "      <td>False</td>\n",
       "    </tr>\n",
       "    <tr>\n",
       "      <th>Ivory</th>\n",
       "      <td>29</td>\n",
       "      <td>6</td>\n",
       "      <td>35</td>\n",
       "      <td>0.828571</td>\n",
       "      <td>0.328571</td>\n",
       "      <td>False</td>\n",
       "      <td>False</td>\n",
       "    </tr>\n",
       "    <tr>\n",
       "      <th>Finnley</th>\n",
       "      <td>5</td>\n",
       "      <td>5</td>\n",
       "      <td>10</td>\n",
       "      <td>0.5</td>\n",
       "      <td>0.0</td>\n",
       "      <td>False</td>\n",
       "      <td>True</td>\n",
       "    </tr>\n",
       "    <tr>\n",
       "      <th>Karter</th>\n",
       "      <td>38</td>\n",
       "      <td>287</td>\n",
       "      <td>325</td>\n",
       "      <td>0.116923</td>\n",
       "      <td>0.383077</td>\n",
       "      <td>True</td>\n",
       "      <td>False</td>\n",
       "    </tr>\n",
       "    <tr>\n",
       "      <th>Skyler</th>\n",
       "      <td>28</td>\n",
       "      <td>7</td>\n",
       "      <td>35</td>\n",
       "      <td>0.8</td>\n",
       "      <td>0.3</td>\n",
       "      <td>False</td>\n",
       "      <td>False</td>\n",
       "    </tr>\n",
       "  </tbody>\n",
       "</table>\n",
       "</div>"
      ],
      "text/plain": [
       "gender     F    M  total     f_pct  Δ from 0.5  popular   even\n",
       "name                                                          \n",
       "Riley    242   81    323  0.749226    0.249226     True  False\n",
       "Sawyer    78  207    285  0.273684    0.226316     True  False\n",
       "Kacey      5   20     25       0.2         0.3    False  False\n",
       "Ivory     29    6     35  0.828571    0.328571    False  False\n",
       "Finnley    5    5     10       0.5         0.0    False   True\n",
       "Karter    38  287    325  0.116923    0.383077     True  False\n",
       "Skyler    28    7     35       0.8         0.3    False  False"
      ]
     },
     "execution_count": 27,
     "metadata": {},
     "output_type": "execute_result"
    }
   ],
   "source": [
    "unisex_wide['even'] = unisex_wide['Δ from 0.5'] <= 0.05 \n",
    "unisex_wide.sample(7)"
   ]
  },
  {
   "cell_type": "markdown",
   "metadata": {},
   "source": [
    "##### Results: Popular and evenly applied unisex names"
   ]
  },
  {
   "cell_type": "code",
   "execution_count": 26,
   "metadata": {},
   "outputs": [
    {
     "data": {
      "text/html": [
       "<div>\n",
       "<style scoped>\n",
       "    .dataframe tbody tr th:only-of-type {\n",
       "        vertical-align: middle;\n",
       "    }\n",
       "\n",
       "    .dataframe tbody tr th {\n",
       "        vertical-align: top;\n",
       "    }\n",
       "\n",
       "    .dataframe thead th {\n",
       "        text-align: right;\n",
       "    }\n",
       "</style>\n",
       "<table border=\"1\" class=\"dataframe\">\n",
       "  <thead>\n",
       "    <tr style=\"text-align: right;\">\n",
       "      <th>gender</th>\n",
       "      <th>F</th>\n",
       "      <th>M</th>\n",
       "      <th>total</th>\n",
       "      <th>f_pct</th>\n",
       "      <th>Δ from 0.5</th>\n",
       "      <th>popular</th>\n",
       "      <th>even</th>\n",
       "    </tr>\n",
       "    <tr>\n",
       "      <th>name</th>\n",
       "      <th></th>\n",
       "      <th></th>\n",
       "      <th></th>\n",
       "      <th></th>\n",
       "      <th></th>\n",
       "      <th></th>\n",
       "      <th></th>\n",
       "    </tr>\n",
       "  </thead>\n",
       "  <tbody>\n",
       "    <tr>\n",
       "      <th>Tatum</th>\n",
       "      <td>55</td>\n",
       "      <td>57</td>\n",
       "      <td>112</td>\n",
       "      <td>0.491071</td>\n",
       "      <td>0.008929</td>\n",
       "      <td>True</td>\n",
       "      <td>True</td>\n",
       "    </tr>\n",
       "    <tr>\n",
       "      <th>Emerson</th>\n",
       "      <td>65</td>\n",
       "      <td>57</td>\n",
       "      <td>122</td>\n",
       "      <td>0.532787</td>\n",
       "      <td>0.032787</td>\n",
       "      <td>True</td>\n",
       "      <td>True</td>\n",
       "    </tr>\n",
       "    <tr>\n",
       "      <th>Dakota</th>\n",
       "      <td>84</td>\n",
       "      <td>70</td>\n",
       "      <td>154</td>\n",
       "      <td>0.545455</td>\n",
       "      <td>0.045455</td>\n",
       "      <td>True</td>\n",
       "      <td>True</td>\n",
       "    </tr>\n",
       "  </tbody>\n",
       "</table>\n",
       "</div>"
      ],
      "text/plain": [
       "gender    F   M  total     f_pct  Δ from 0.5  popular  even\n",
       "name                                                       \n",
       "Tatum    55  57    112  0.491071    0.008929     True  True\n",
       "Emerson  65  57    122  0.532787    0.032787     True  True\n",
       "Dakota   84  70    154  0.545455    0.045455     True  True"
      ]
     },
     "execution_count": 26,
     "metadata": {},
     "output_type": "execute_result"
    }
   ],
   "source": [
    "unisex_wide[unisex_wide.popular & unisex_wide.even]"
   ]
  },
  {
   "cell_type": "code",
   "execution_count": null,
   "metadata": {},
   "outputs": [],
   "source": []
  }
 ],
 "metadata": {
  "kernelspec": {
   "display_name": "IOD2",
   "language": "python",
   "name": "python3"
  },
  "language_info": {
   "codemirror_mode": {
    "name": "ipython",
    "version": 3
   },
   "file_extension": ".py",
   "mimetype": "text/x-python",
   "name": "python",
   "nbconvert_exporter": "python",
   "pygments_lexer": "ipython3",
   "version": "3.10.14"
  }
 },
 "nbformat": 4,
 "nbformat_minor": 2
}
